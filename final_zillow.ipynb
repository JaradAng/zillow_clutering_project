{
 "cells": [
  {
   "cell_type": "code",
   "execution_count": 1,
   "metadata": {},
   "outputs": [],
   "source": [
    "import pandas as pd\n",
    "import numpy as np\n",
    "import os\n",
    "import math\n",
    "import pymysql\n",
    "\n",
    "import matplotlib.pyplot as plt\n",
    "import seaborn as sns\n",
    "import scipy.stats as stats\n",
    "# use get_db_url function to connect to the codeup db\n",
    "from env import get_db_url\n",
    "from sklearn.impute import SimpleImputer\n",
    "from sklearn.metrics import mean_squared_error\n",
    "\n",
    "from sklearn.cluster import KMeans, dbscan\n",
    "from sklearn.model_selection import train_test_split\n",
    "from sklearn.linear_model import LinearRegression\n",
    "from sklearn.feature_selection import RFE\n",
    "from sklearn.linear_model import LinearRegression,  LassoLars, TweedieRegressor\n",
    "from sklearn.preprocessing import PolynomialFeatures\n",
    "from sklearn.preprocessing import MinMaxScaler, StandardScaler, RobustScaler\n",
    "\n",
    "\n",
    "import zillow_wrangle"
   ]
  },
  {
   "cell_type": "markdown",
   "metadata": {},
   "source": [
    "# What's causing the error in our Zestimates\n",
    "\n",
    "--- \n",
    "\n",
    "## Project Goal \n",
    "\n",
    "- The goal of this project is to create a reproducible  machine learning regression model and clusters to find the key drivers of error in Zestimates \n",
    "- In order to identify key drivers of errors in our Zestimate, this project will explore the data and indentify clusters which can help lower the estimate. This notebook serves as a way to understand why and how I made the prediction model.\n",
    "\n",
    "---\n",
    "\n",
    "## Project Description\n",
    "\n",
    "- The residential real estate market is constantly evolving and fluctating. Zestimates offer a way for our users to to understand and negotiate good deals by having a good idea what the house should be worth. An accurate algorithim is essential in user statisfaction and a way for them to properly plan their home purchase. Lowering the error will inspire more confidence with users trusting the zestimate and help Zillow grow. \n",
    "\n",
    "---\n",
    "\n",
    "### Key Questions\n",
    "\n",
    "1. Does logerror vary by location using polar coordinates?\n",
    "\n",
    "2. Does log erorr vary by quarter sold?\n",
    "\n",
    "3. Does log error vary by transaction month and census location?\n",
    "\n",
    "4. Does log error vary by county and time sold?\n",
    "\n",
    "5. Does the product of square feet and the bed bath ratio affect log error?\n",
    "\n",
    "--- \n",
    "## Data Acquisition\n",
    "- Brought in all the necessary data using mySQL via the zillow_wrangle.py file.\n"
   ]
  },
  {
   "cell_type": "code",
   "execution_count": 2,
   "metadata": {},
   "outputs": [],
   "source": [
    "# Bringing in the zillow data set\n",
    "df = zillow_wrangle.wrangle_zillow()"
   ]
  },
  {
   "cell_type": "code",
   "execution_count": 3,
   "metadata": {},
   "outputs": [],
   "source": [
    "# Transforming the Lat Long to cartesian coordinates\n",
    "df = zillow_wrangle.latlong_to_cart(df)"
   ]
  },
  {
   "cell_type": "code",
   "execution_count": 4,
   "metadata": {},
   "outputs": [],
   "source": [
    "# Transforming to polar coordinates to have 2 dimensional distance\n",
    "df['rho'], df['phi'] = zillow_wrangle.cart2pol(df.x, df.y)"
   ]
  },
  {
   "cell_type": "code",
   "execution_count": 5,
   "metadata": {},
   "outputs": [],
   "source": [
    "# Combining the two transaction columns into one\n",
    "df = zillow_wrangle.combine_transactions(df)"
   ]
  },
  {
   "cell_type": "code",
   "execution_count": 6,
   "metadata": {},
   "outputs": [],
   "source": [
    "# Changing and setting setting date features to be by month and quarter\n",
    "df = zillow_wrangle.add_date_features(df)"
   ]
  },
  {
   "cell_type": "code",
   "execution_count": 7,
   "metadata": {},
   "outputs": [],
   "source": [
    "# Removing the now redundant columns after the feature engineering\n",
    "df = df.drop(columns=['bedroomcnt', 'bathroomcnt', 'x', 'y', 'z', 'coslat', 'coslong', 'sinlong', 'roomcnt', 'taxvaluedollarcnt', 'yearbuilt', 'taxamount', 'latitude', 'longitude', 'lat', 'long'])"
   ]
  },
  {
   "cell_type": "markdown",
   "metadata": {},
   "source": [
    "## Acquisition and Prep Takeaways \n",
    "- The project asked for single unit/ single family homes so I filtered by unit count equal to 1 and by single family home.\n",
    "- The resulting query has 79661 rows representing a transaction from fiscal year 2017\n",
    "- My intial exploration saw the categories with the least amount of nulls and that transaction year was not a full year\n",
    "- The query resulted in a minimal amount of nulls which I dropped instead of imputing to keep the data original and still retained over 90% of the data\n",
    "- I transformed the nulls  to zeros for the pool and garage columns. They are very large features and have a high likelihood of being added if presented. Since there was no zeros and only nulls, I interpreted the nulls to be zeros.\n",
    "\n",
    "\n",
    "---\n",
    "\n",
    "## Data Exploration\n",
    "- The 2017 data was incomplete becuase it only showed data for the 9 months of year, and to get the full year I used fiscal year and brought in data from the last three months of 2016. This gave me a full three quarters\n",
    "- I split the transactions into months and quarters to get a better sense of logerrror drivers\n",
    "- There is some underlying features that we do not have recored that influence logerror in transaction months. I searched all basic features and saw no variance in logerror. \n",
    "- I used raw census data over regular becuase it contained no nulls and didn't need to drop any. Precise location was not needed since I was binning them instead.\n",
    "- To see my exploration please see the explore files \n"
   ]
  },
  {
   "cell_type": "code",
   "execution_count": 8,
   "metadata": {},
   "outputs": [],
   "source": [
    "# Splitting the data to ensure no leakage between train test and split\n",
    "train, validate, test = zillow_wrangle.split_data(df)"
   ]
  },
  {
   "cell_type": "code",
   "execution_count": 9,
   "metadata": {},
   "outputs": [
    {
     "data": {
      "text/plain": [
       "((79661, 13), (50982, 13), (12746, 13), (15933, 13))"
      ]
     },
     "execution_count": 9,
     "metadata": {},
     "output_type": "execute_result"
    }
   ],
   "source": [
    "# Looking at the overall shapes to see if the split worked correctly\n",
    "df.shape, train.shape, validate.shape, test.shape"
   ]
  },
  {
   "cell_type": "code",
   "execution_count": 10,
   "metadata": {},
   "outputs": [
    {
     "data": {
      "text/plain": [
       "(50218, 13)"
      ]
     },
     "execution_count": 10,
     "metadata": {},
     "output_type": "execute_result"
    }
   ],
   "source": [
    "# cutting the only most extreme outliers and will handle with a robust scaler later\n",
    "train = zillow_wrangle.remove_outliers(train, 3, ['calculatedfinishedsquarefeet','garagecarcnt'])\n",
    "train.shape"
   ]
  },
  {
   "cell_type": "code",
   "execution_count": 11,
   "metadata": {},
   "outputs": [],
   "source": [
    "# # Assigning the county names to the region id county to see what the counties names are\n",
    "# def county_name(county):\n",
    "#     if county == 2061.0:\n",
    "#         return 'Los Angeles'\n",
    "#     elif county == 1286.0:\n",
    "#         return 'Orange'\n",
    "#     elif county == 3101.0:\n",
    "#         return 'Ventura'\n",
    "\n",
    "# train['county'] = train.regionidcounty.apply(county_name)\n",
    "# validate['county'] = train.regionidcounty.apply(county_name)\n",
    "# test['county'] = train.regionidcounty.apply(county_name)"
   ]
  },
  {
   "cell_type": "markdown",
   "metadata": {},
   "source": [
    "# Q1. Does log error vary polar coordinate location?"
   ]
  },
  {
   "cell_type": "code",
   "execution_count": 12,
   "metadata": {},
   "outputs": [
    {
     "data": {
      "image/png": "[encoded data removed]",
      "text/plain": [
       "<Figure size 1152x648 with 1 Axes>"
      ]
     },
     "metadata": {
      "needs_background": "light"
     },
     "output_type": "display_data"
    }
   ],
   "source": [
    "logmean = train.logerror.mean()\n",
    "\n",
    "# Changing the cartesian coordinates to be polar coordinates\n",
    "train['polar_combo'] = train.rho * train.phi\n",
    "validate['polar_combo'] = validate.rho * validate.phi\n",
    "test['polar_combo'] = test.rho * test.phi\n",
    "\n",
    "\n",
    "# Separating the locations into bins to better visualize the data against log error. The bins were found via qcut in explore\n",
    "train['polar_bin'] = pd.cut(train.polar_combo, [-3.0469999999999997, -2.148, -1.891, -1.671, -1.461, -1.26, 3.018])\n",
    "validate['polar_bin'] = pd.cut(validate.polar_combo, [-3.0469999999999997, -2.148, -1.891, -1.671, -1.461, -1.26, 3.018])\n",
    "test['polar_bin'] = pd.cut(test.polar_combo, [-3.0469999999999997, -2.148, -1.891, -1.671, -1.461, -1.26, 3.018])\n",
    "\n",
    "# Plotting the figure\n",
    "plt.figure(figsize=(16, 9))\n",
    "sns.barplot(data = train, x='polar_bin', y='logerror')\n",
    "plt.title('Does logerror vary by polar coordinate bins?')\n",
    "plt.axhline(logmean, ls = '--', color = 'black')\n",
    "plt.show()"
   ]
  },
  {
   "cell_type": "markdown",
   "metadata": {},
   "source": [
    "### Log error does vary by location. The current model is more accurate for the first three bins compared to the last three\n",
    "Ho - Log error is the equal for all locations\n",
    "Ha - Log error is not equal for all locations\n",
    "Result - We reject the null hypothesis. \n",
    "\n",
    "---\n",
    "# Q2. Does log error vary depending on which quarter the house was sold?"
   ]
  },
  {
   "cell_type": "code",
   "execution_count": 13,
   "metadata": {},
   "outputs": [
    {
     "data": {
      "image/png": "[encoded data removed]",
      "text/plain": [
       "<Figure size 1152x648 with 1 Axes>"
      ]
     },
     "metadata": {
      "needs_background": "light"
     },
     "output_type": "display_data"
    }
   ],
   "source": [
    "# Plotting the chart for transaction quarter against logerro\n",
    "plt.figure(figsize=(16, 9))\n",
    "sns.barplot(data = train, x='transaction_quarter', y='logerror')\n",
    "plt.title('Does logerror vary by transaction quarter')\n",
    "plt.axhline(logmean, ls = '--', color = 'black')\n",
    "plt.show()"
   ]
  },
  {
   "cell_type": "markdown",
   "metadata": {},
   "source": [
    "## The log error does vary by the quarter it was sold. The current model better predicts prices during the 2 and 4th quarter \n",
    "\n",
    "Ho - Log error is equal for all quarters\n",
    "Ha - Lor error is not equal for all quarters\n",
    "Result - We reject the null hypothesis\n",
    "---\n",
    "\n",
    "# Q3. Does log error vary by the month it was sold and by census location?"
   ]
  },
  {
   "cell_type": "code",
   "execution_count": 14,
   "metadata": {},
   "outputs": [
    {
     "data": {
      "image/png": "[encoded data removed]",
      "text/plain": [
       "<Figure size 1152x648 with 1 Axes>"
      ]
     },
     "metadata": {
      "needs_background": "light"
     },
     "output_type": "display_data"
    }
   ],
   "source": [
    "# Creating the ratio for the feature and applying it to all groups\n",
    "train['cen_ratio'] = df.rawcensustractandblock / df.transaction_month\n",
    "validate['cen_ratio'] = df.rawcensustractandblock / df.transaction_month\n",
    "test['cen_ratio'] = df.rawcensustractandblock / df.transaction_month\n",
    "\n",
    "# Setting the bins for the data to fall into \n",
    "train['cen_ratio_bin'] = pd.cut(train.cen_ratio, [5030917.601, 6708412.0, 7573874.039, 10062584.918, 12118220.002, 20126400.101, 61110088.001])\n",
    "validate['cen_ratio_bin'] = pd.cut(validate.cen_ratio, [5030917.601, 6708412.0, 7573874.039, 10062584.918, 12118220.009, 20126400.101, 61110088.001])\n",
    "test['cen_ratio_bin'] = pd.cut(test.cen_ratio, [5030917.601, 6708412.0, 7573874.039, 10062584.918, 12118220.002, 20126400.101, 61110088.001])\n",
    "\n",
    "# Creating the visual against log erorr\n",
    "plt.figure(figsize=(16, 9))\n",
    "sns.barplot(data = train, x='cen_ratio_bin', y='logerror')\n",
    "plt.title('Does logerror vary by census block and time sold')\n",
    "plt.axhline(logmean, ls = '--', color = 'black')\n",
    "plt.show()\n",
    "\n"
   ]
  },
  {
   "cell_type": "markdown",
   "metadata": {},
   "source": [
    "## The lor error does vary and preforms better than average on half of the data with more error in the other half.\n",
    "Ho - Log error is equal across all bins\n",
    "Ha - Lor error is not equal across all bins\n",
    "Result - We reject the null hypothesis\n",
    "\n",
    "---\n",
    "# Q4. How does log error vary by county and time sold?"
   ]
  },
  {
   "cell_type": "code",
   "execution_count": 15,
   "metadata": {},
   "outputs": [
    {
     "data": {
      "image/png": "[encoded data removed]",
      "text/plain": [
       "<Figure size 1152x648 with 1 Axes>"
      ]
     },
     "metadata": {
      "needs_background": "light"
     },
     "output_type": "display_data"
    }
   ],
   "source": [
    "# Creating the feature by dividing the county by transaction month\n",
    "train['county_ratio'] = train.regionidcounty / train.transaction_month\n",
    "validate['county_ratio'] = validate.regionidcounty / validate.transaction_month\n",
    "test['county_ratio'] = test.regionidcounty / test.transaction_month\n",
    "\n",
    "# Creating the binned data from qcut in explore\n",
    "train['county_ratio_bin'] = pd.cut(train.county_ratio, [107.166, 258.417, 344.556, 443.0, 620.2, 1033.667, 3101.0])\n",
    "validate['county_ratio_bin'] = pd.cut(validate.county_ratio, [107.166, 258.417, 344.556, 443.0, 620.2, 1033.667, 3101.0])\n",
    "test['county_ratio_bin'] = pd.cut(test.county_ratio, [107.166, 258.417, 344.556, 443.0, 620.2, 1033.667, 3101.0])\n",
    "\n",
    "# Plotting the graph\n",
    "plt.figure(figsize=(16, 9))\n",
    "sns.barplot(data = train, x='county_ratio_bin', y='logerror')\n",
    "plt.title('Does logerror vary by county and transaction month')\n",
    "plt.axhline(logmean, ls = '--', color = 'black')\n",
    "plt.show()\n"
   ]
  },
  {
   "cell_type": "markdown",
   "metadata": {},
   "source": [
    "## This was to see if the time of the year affected the county in which the property was sold. We can see the the log error was different for three of the 6 bins of data\n",
    "\n",
    "Ho - The log error is equal for all bins\n",
    "Ha - The log error is not equal for all bins\n",
    "Result - We reject the null hypothesis\n",
    "\n",
    "---\n",
    "\n",
    "# Q5. Does the product of square feet and the bed bath ratio affect log error?"
   ]
  },
  {
   "cell_type": "code",
   "execution_count": 16,
   "metadata": {},
   "outputs": [
    {
     "data": {
      "image/png": "[encoded data removed]",
      "text/plain": [
       "<Figure size 1152x648 with 1 Axes>"
      ]
     },
     "metadata": {
      "needs_background": "light"
     },
     "output_type": "display_data"
    }
   ],
   "source": [
    "# Creating the feature\n",
    "train['sqf_bbr'] = df.calculatedfinishedsquarefeet * df.bed_bath_ratio\n",
    "validate['sqf_bbr'] = df.calculatedfinishedsquarefeet * df.bed_bath_ratio\n",
    "test['sqf_bbr'] = df.calculatedfinishedsquarefeet * df.bed_bath_ratio\n",
    "\n",
    "# Binning the feature\n",
    "train['sqft_x_bbr'] = pd.cut(train.sqf_bbr, [81.59899999999999, 1464.0, 1920.0, 2355.0, 2919.0, 3600, 15090.0])\n",
    "validate['sqft_x_bbr'] = pd.cut(validate.sqf_bbr, [81.59899999999999, 1464.0, 1920.0, 2355.0, 2919.0, 3600, 15090.0])\n",
    "test['sqft_x_bbr'] = pd.cut(test.sqf_bbr, [81.59899999999999, 1464.0, 1920.0, 2355.0, 2919.0, 3600, 15090.0])\n",
    "\n",
    "# Creating the graph\n",
    "plt.figure(figsize=(16, 9))\n",
    "sns.barplot(data = train, x='sqft_x_bbr', y='logerror')\n",
    "plt.title('Does logerror vary by sqft_x_bbr')\n",
    "plt.axhline(logmean, ls = '--', color = 'black')\n",
    "plt.show()"
   ]
  },
  {
   "cell_type": "code",
   "execution_count": 17,
   "metadata": {},
   "outputs": [],
   "source": [
    "# Creating the Age bin from explore but did not put into questions \n",
    "train['age_bin'] = pd.cut(train.house_age,[0,25, 50, 75, 100])\n",
    "validate['age_bin'] = pd.cut(validate.house_age,[0,25, 50, 75, 100])\n",
    "test['age_bin'] = pd.cut(test.house_age,[0,25, 50, 75, 100])\n",
    "\n",
    "# Creating census bins as well to aid in modeling but did not make it questions\n",
    "train['raw_cen_bin'] = pd.cut(train.rawcensustractandblock, [60371011.1, 60373004.001, 60375711.022, 60590218.223, 61110091.001])\n",
    "validate['raw_cen_bin'] = pd.cut(validate.rawcensustractandblock, [60371011.1, 60373004.001, 60375711.022, 60590218.223, 61110091.001])\n",
    "test['raw_cen_bin'] = pd.cut(test.rawcensustractandblock, [60371011.1, 60373004.001, 60375711.022, 60590218.223, 61110091.001])\n"
   ]
  },
  {
   "cell_type": "markdown",
   "metadata": {},
   "source": [
    "## As the ratio gets bigger the log error trends to the upside as the ratio increases. \n",
    "Ho - The logerror is the same for all ratio bins\n",
    "Ha - The logerror is not equal for all bins"
   ]
  },
  {
   "cell_type": "markdown",
   "metadata": {},
   "source": [
    "# Take aways\n",
    "- The log error varies by location and setting it to polar coordinates makes the location easily measurable \n",
    "- The quarter in which the home was sold affects the home price\n",
    "- The time sold and census location affects logerror\n",
    "- The month when sold and county location affects logerror\n",
    "- The product of sq ft and bed bath ratio has strong variance in logerror.\n",
    "- Created the age bin in explore but did not include in questions\n",
    "\n",
    "---\n",
    "# Modeling Tweedie Regressor\n",
    "- Please see my explore file to see how the other models preformed vs Tweedie\n",
    "- Used RFE to determine the best features to use\n",
    "- Using a Robust scaler because I still have some outliers left after removing the most extreme and keep the model as wide as possible\n",
    "- I attempted clusters in explore but they did not impact the model and were not selected in RFE"
   ]
  },
  {
   "cell_type": "code",
   "execution_count": 18,
   "metadata": {},
   "outputs": [],
   "source": [
    "# Scaling the data and reapply that to the dataframe\n",
    "def split_scale(df):\n",
    "    # Copy a new dataframe to perform feature engineering\n",
    "    scaled_df = df.copy()\n",
    "    scaler = RobustScaler()\n",
    "    # Split the scaled data into train, validate, test\n",
    "    train, validate, test = zillow_wrangle.split_data(scaled_df)\n",
    "    # Columns to scale\n",
    "    cols = ['calculatedfinishedsquarefeet', 'lotsizesquarefeet', 'rawcensustractandblock', 'garagecarcnt', 'house_age']\n",
    "    # Fit numerical features to scaler\n",
    "    scaler.fit(train[cols])\n",
    "    # Set the features to transformed value\n",
    "    train[cols] = scaler.transform(train[cols])\n",
    "    validate[cols] = scaler.transform(validate[cols])\n",
    "    test[cols] = scaler.transform(test[cols])\n",
    "    return train, validate, test"
   ]
  },
  {
   "cell_type": "code",
   "execution_count": 19,
   "metadata": {},
   "outputs": [
    {
     "data": {
      "text/plain": [
       "Index(['calculatedfinishedsquarefeet', 'lotsizesquarefeet',\n",
       "       'rawcensustractandblock', 'poolcnt', 'regionidcounty', 'garagecarcnt',\n",
       "       'bed_bath_ratio', 'house_age', 'rho', 'phi', 'logerror',\n",
       "       'transaction_month', 'transaction_quarter', 'polar_combo', 'polar_bin',\n",
       "       'cen_ratio', 'cen_ratio_bin', 'county_ratio', 'county_ratio_bin',\n",
       "       'sqf_bbr', 'sqft_x_bbr', 'age_bin', 'raw_cen_bin'],\n",
       "      dtype='object')"
      ]
     },
     "execution_count": 19,
     "metadata": {},
     "output_type": "execute_result"
    }
   ],
   "source": [
    "#Using the Function to apply the scaled data to dataset\n",
    "df = split_scale(df)\n",
    "\n",
    "#Affirming that I have all the columns\n",
    "train.columns"
   ]
  },
  {
   "cell_type": "code",
   "execution_count": 21,
   "metadata": {},
   "outputs": [
    {
     "data": {
      "text/plain": [
       "Index(['calculatedfinishedsquarefeet', 'lotsizesquarefeet',\n",
       "       'rawcensustractandblock', 'poolcnt', 'regionidcounty', 'garagecarcnt',\n",
       "       'bed_bath_ratio', 'house_age', 'rho', 'phi', 'logerror',\n",
       "       'transaction_month', 'transaction_quarter', 'polar_combo', 'polar_bin',\n",
       "       'cen_ratio', 'cen_ratio_bin', 'county_ratio', 'county_ratio_bin',\n",
       "       'sqf_bbr', 'sqft_x_bbr', 'age_bin', 'raw_cen_bin',\n",
       "       'polar_bin_(-3.047, -2.148]', 'polar_bin_(-2.148, -1.891]',\n",
       "       'polar_bin_(-1.891, -1.671]', 'polar_bin_(-1.671, -1.461]',\n",
       "       'polar_bin_(-1.461, -1.26]', 'polar_bin_(-1.26, 3.018]',\n",
       "       'age_bin_(0, 25]', 'age_bin_(25, 50]', 'age_bin_(50, 75]',\n",
       "       'age_bin_(75, 100]', 'sqft_x_bbr_(81.599, 1464.0]',\n",
       "       'sqft_x_bbr_(1464.0, 1920.0]', 'sqft_x_bbr_(1920.0, 2355.0]',\n",
       "       'sqft_x_bbr_(2355.0, 2919.0]', 'sqft_x_bbr_(2919.0, 3600.0]',\n",
       "       'sqft_x_bbr_(3600.0, 15090.0]', 'county_ratio_bin_(107.166, 258.417]',\n",
       "       'county_ratio_bin_(258.417, 344.556]',\n",
       "       'county_ratio_bin_(344.556, 443.0]', 'county_ratio_bin_(443.0, 620.2]',\n",
       "       'county_ratio_bin_(620.2, 1033.667]',\n",
       "       'county_ratio_bin_(1033.667, 3101.0]',\n",
       "       'raw_cen_bin_(60371011.1, 60373004.001]',\n",
       "       'raw_cen_bin_(60373004.001, 60375711.022]',\n",
       "       'raw_cen_bin_(60375711.022, 60590218.223]',\n",
       "       'raw_cen_bin_(60590218.223, 61110091.001]'],\n",
       "      dtype='object')"
      ]
     },
     "execution_count": 21,
     "metadata": {},
     "output_type": "execute_result"
    }
   ],
   "source": [
    "#setting what columns to make dummies and adding to train\n",
    "cols = ['polar_bin', 'age_bin', 'sqft_x_bbr', 'county_ratio_bin', 'raw_cen_bin']\n",
    "train_dummy = pd.get_dummies(train[cols], dummy_na=False, drop_first=False)\n",
    "x_train = pd.concat([train, train_dummy], axis =1)\n",
    "\n",
    "#adding dummies to validate\n",
    "validate_dummy = pd.get_dummies(validate[cols], dummy_na=False, drop_first=False)\n",
    "x_validate = pd.concat([validate, validate_dummy], axis =1)\n",
    "\n",
    "#Adding dummies to test\n",
    "test_dummy = pd.get_dummies(test[cols], dummy_na=False, drop_first=False)\n",
    "x_test = pd.concat([test, test_dummy], axis =1)\n",
    "\n",
    "#Checking to see if it worked\n",
    "x_train.columns"
   ]
  },
  {
   "cell_type": "code",
   "execution_count": 22,
   "metadata": {},
   "outputs": [],
   "source": [
    "# Dropping the redunant columns\n",
    "x_train = x_train.drop(columns=['polar_bin', 'raw_cen_bin', 'age_bin', 'sqft_x_bbr', 'county_ratio_bin', 'cen_ratio_bin', 'phi', 'rho', 'lotsizesquarefeet', 'house_age'])\n",
    "\n"
   ]
  },
  {
   "cell_type": "code",
   "execution_count": 23,
   "metadata": {},
   "outputs": [],
   "source": [
    "# Setting the variables and target variable\n",
    "X_train = x_train.drop(columns = 'logerror')\n",
    "X_validate = x_validate.drop(columns = 'logerror')\n",
    "X_test = x_test.drop(columns = 'logerror')\n",
    "\n",
    "y_train = x_train['logerror']\n",
    "y_validate = x_validate['logerror']\n",
    "y_test = x_test['logerror']"
   ]
  },
  {
   "cell_type": "markdown",
   "metadata": {},
   "source": []
  },
  {
   "cell_type": "code",
   "execution_count": 40,
   "metadata": {},
   "outputs": [
    {
     "data": {
      "text/plain": [
       "Index(['poolcnt', 'polar_bin_(-3.047, -2.148]', 'polar_bin_(-2.148, -1.891]',\n",
       "       'polar_bin_(-1.891, -1.671]', 'polar_bin_(-1.671, -1.461]',\n",
       "       'polar_bin_(-1.461, -1.26]', 'polar_bin_(-1.26, 3.018]',\n",
       "       'age_bin_(0, 25]', 'age_bin_(25, 50]', 'age_bin_(50, 75]',\n",
       "       'age_bin_(75, 100]', 'sqft_x_bbr_(81.599, 1464.0]',\n",
       "       'sqft_x_bbr_(1464.0, 1920.0]', 'sqft_x_bbr_(1920.0, 2355.0]',\n",
       "       'sqft_x_bbr_(2355.0, 2919.0]',\n",
       "       'raw_cen_bin_(60375711.022, 60590218.223]'],\n",
       "      dtype='object')"
      ]
     },
     "execution_count": 40,
     "metadata": {},
     "output_type": "execute_result"
    }
   ],
   "source": [
    "def select_rfe(x, y, k):\n",
    "    model = LinearRegression()\n",
    "    rfe = RFE(model, n_features_to_select= k)\n",
    "    rfe.fit(x, y)\n",
    "    return x.columns[rfe.get_support()]\n",
    "\n",
    "select_rfe(X_train, y_train, 16)"
   ]
  },
  {
   "cell_type": "code",
   "execution_count": 29,
   "metadata": {},
   "outputs": [],
   "source": [
    "# Setting the features to use in my model \n",
    "X_train = X_train[['poolcnt', 'polar_bin_(-3.047, -2.148]', 'polar_bin_(-2.148, -1.891]',\n",
    "       'polar_bin_(-1.891, -1.671]', 'polar_bin_(-1.671, -1.461]',\n",
    "       'polar_bin_(-1.461, -1.26]', 'polar_bin_(-1.26, 3.018]',\n",
    "       'age_bin_(0, 25]', 'age_bin_(25, 50]', 'age_bin_(50, 75]',\n",
    "       'age_bin_(75, 100]', 'sqft_x_bbr_(81.599, 1464.0]',\n",
    "       'sqft_x_bbr_(1464.0, 1920.0]', 'sqft_x_bbr_(1920.0, 2355.0]',\n",
    "       'sqft_x_bbr_(2355.0, 2919.0]',\n",
    "       'raw_cen_bin_(60375711.022, 60590218.223]']]\n",
    "X_validate = X_validate[['poolcnt', 'polar_bin_(-3.047, -2.148]', 'polar_bin_(-2.148, -1.891]',\n",
    "       'polar_bin_(-1.891, -1.671]', 'polar_bin_(-1.671, -1.461]',\n",
    "       'polar_bin_(-1.461, -1.26]', 'polar_bin_(-1.26, 3.018]',\n",
    "       'age_bin_(0, 25]', 'age_bin_(25, 50]', 'age_bin_(50, 75]',\n",
    "       'age_bin_(75, 100]', 'sqft_x_bbr_(81.599, 1464.0]',\n",
    "       'sqft_x_bbr_(1464.0, 1920.0]', 'sqft_x_bbr_(1920.0, 2355.0]',\n",
    "       'sqft_x_bbr_(2355.0, 2919.0]',\n",
    "       'raw_cen_bin_(60375711.022, 60590218.223]']] \n",
    "X_test = X_test[['poolcnt', 'polar_bin_(-3.047, -2.148]', 'polar_bin_(-2.148, -1.891]',\n",
    "       'polar_bin_(-1.891, -1.671]', 'polar_bin_(-1.671, -1.461]',\n",
    "       'polar_bin_(-1.461, -1.26]', 'polar_bin_(-1.26, 3.018]',\n",
    "       'age_bin_(0, 25]', 'age_bin_(25, 50]', 'age_bin_(50, 75]',\n",
    "       'age_bin_(75, 100]', 'sqft_x_bbr_(81.599, 1464.0]',\n",
    "       'sqft_x_bbr_(1464.0, 1920.0]', 'sqft_x_bbr_(1920.0, 2355.0]',\n",
    "       'sqft_x_bbr_(2355.0, 2919.0]',\n",
    "       'raw_cen_bin_(60375711.022, 60590218.223]']]  \n",
    "\n",
    "# Creating dataframe to analyze results\n",
    "predictions_reg = pd.DataFrame({\n",
    "    'actual': x_validate['logerror']\n",
    "})            "
   ]
  },
  {
   "cell_type": "code",
   "execution_count": 31,
   "metadata": {},
   "outputs": [
    {
     "data": {
      "text/plain": [
       "actual      0.000000\n",
       "tweedie     0.152973\n",
       "baseline    0.153083\n",
       "dtype: float64"
      ]
     },
     "execution_count": 31,
     "metadata": {},
     "output_type": "execute_result"
    }
   ],
   "source": [
    "# Setting the tweedie regressor model \n",
    "tweedie_reg = TweedieRegressor(power=0, alpha=0.5)\n",
    "\n",
    "# Fitting the model to my train\n",
    "tweedie_reg.fit(X_train, y_train)\n",
    "\n",
    "#creating the column to house predictions\n",
    "predictions_reg['tweedie'] = tweedie_reg.predict(X_validate)\n",
    "\n",
    "#Creating baseline model to compare against\n",
    "predictions_reg['baseline'] = x_train.logerror.mean()\n",
    "predictions_reg.head()\n",
    "\n",
    "#calculating the rmse for both\n",
    "def calculate_rmse(y_predicted):\n",
    "    return mean_squared_error(predictions_reg.actual, y_predicted, squared=False)\n",
    "\n",
    "predictions_reg.apply(calculate_rmse).sort_values()"
   ]
  },
  {
   "cell_type": "code",
   "execution_count": 36,
   "metadata": {},
   "outputs": [
    {
     "name": "stdout",
     "output_type": "stream",
     "text": [
      "The model's RMSE is: 0.16375\n"
     ]
    }
   ],
   "source": [
    "# Making predictions on the test data  used to determine RMSE\n",
    "test_predictions = tweedie_reg.predict(X_test)\n",
    "test_actual = x_test.logerror\n",
    "\n",
    "RMSE = mean_squared_error(test_actual, test_predictions, squared=False)\n",
    "RMSE\n",
    "print(\"The model's RMSE is: \"+\"{:.5f}\".format(RMSE))"
   ]
  },
  {
   "cell_type": "code",
   "execution_count": 38,
   "metadata": {},
   "outputs": [
    {
     "name": "stdout",
     "output_type": "stream",
     "text": [
      "Validation baseline RMSE: 0.16383.\n"
     ]
    }
   ],
   "source": [
    "# Setting the base line in order to compare how it is. \n",
    "x_test['baseline'] = x_test.logerror.mean()\n",
    "\n",
    "# Finding the RMSE of the baseline\n",
    "test_baseline = mean_squared_error(x_test.logerror, x_test.baseline, squared=False)\n",
    "\n",
    "# Printing the baseline \n",
    "print('Validation baseline RMSE: {:.5f}.'.format(test_baseline))"
   ]
  },
  {
   "cell_type": "code",
   "execution_count": 39,
   "metadata": {},
   "outputs": [
    {
     "name": "stdout",
     "output_type": "stream",
     "text": [
      "The model beat baseline by: 0.05%\n"
     ]
    }
   ],
   "source": [
    "# Finding how much my model beat baseline by and printing the result in \n",
    "model_percent = abs((RMSE - test_baseline) / ((RMSE + test_baseline) / 2))\n",
    "\n",
    "print(\"The model beat baseline by: \"+\"{:.2%}\".format(model_percent))"
   ]
  },
  {
   "cell_type": "markdown",
   "metadata": {},
   "source": [
    "# Summary\n",
    "* The tweedie regression model used on the data beat the baseline prediction by 0.05% on the test data\n",
    "* There is some underlying features that I do not know which is causing an infulence on the logerror\n",
    "* The top features to help predict the log error are the custom bins I made above.\n",
    "* My clusters did not add to the model, so I did not select them \n",
    "\n",
    "---\n",
    "# Recommendations\n",
    "* Try to gain additional features that affect the logerror to determine more key errors\n",
    "* Try to get better information to lower the amount of nulls for features that have strong correlation, such as construction quality\n",
    "*  Compare these models to other states to see how logerror is affect and if the features here are unique to the LA area\n",
    "\n",
    "---\n",
    "# Next Steps\n",
    "* Continue to explore the variables and bins of them to help lower log error\n",
    "* Try new cluster combinations to see if any would help model preform any better\n",
    "* Proof of concecpt - can continue to build and work on the model. "
   ]
  }
 ],
 "metadata": {
  "kernelspec": {
   "display_name": "Python 3.9.12 64-bit",
   "language": "python",
   "name": "python3"
  },
  "language_info": {
   "codemirror_mode": {
    "name": "ipython",
    "version": 3
   },
   "file_extension": ".py",
   "mimetype": "text/x-python",
   "name": "python",
   "nbconvert_exporter": "python",
   "pygments_lexer": "ipython3",
   "version": "3.9.12"
  },
  "orig_nbformat": 4,
  "vscode": {
   "interpreter": {
    "hash": "06abcb151c429d104ebbd17e1a27ba2e061d378cc1baa1fda2ba67e1ea9125c8"
   }
  }
 },
 "nbformat": 4,
 "nbformat_minor": 2
}
